{
  "nbformat": 4,
  "nbformat_minor": 0,
  "metadata": {
    "colab": {
      "name": "class_lung_lesion.ipynb",
      "provenance": [],
      "collapsed_sections": []
    },
    "kernelspec": {
      "name": "python3",
      "display_name": "Python 3"
    },
    "accelerator": "GPU"
  },
  "cells": [
    {
      "cell_type": "markdown",
      "metadata": {
        "id": "nI1LCVMKcfO1"
      },
      "source": [
        "This tutorial trains a 3D densenet for lung lesion classification from CT image patches. \n",
        "\n",
        "The goal is to demonstrate MONAI's class activation mapping functions for visualising the classification models.\n",
        "\n",
        "For the demo data:\n",
        "- Please see the `bbox_gen.py` script for generating the patch classification data from MSD task06_lung (available via `monai.apps.DecathlonDataset`).\n",
        "- Alternatively, the patch dataset (~130MB) is available for direct downloading at: https://drive.google.com/drive/folders/1vl330aJew1NCc31IVYJSAh3y0XdDdydi"
      ]
    },
    {
      "cell_type": "code",
      "metadata": {
        "id": "AbhFzvu3JbZV"
      },
      "source": [
        "%pip install \"git+https://github.com/Project-MONAI/MONAI#egg=MONAI[nibabel, tqdm]\""
      ],
      "execution_count": null,
      "outputs": []
    },
    {
      "cell_type": "code",
      "metadata": {
        "id": "nZYowi8fUVp5"
      },
      "source": [
        "import glob\n",
        "import random\n",
        "import numpy as np\n",
        "import torch\n",
        "from torch.utils.tensorboard import SummaryWriter\n",
        "\n",
        "import monai\n",
        "from monai.transforms import (\n",
        "    AddChanneld, Compose, LoadImaged, RandRotate90d, \n",
        "    Resized, ScaleIntensityRanged, ToTensord, \n",
        "    RandFlipd, RandSpatialCropd,\n",
        ")\n",
        "\n",
        "monai.config.print_config()\n",
        "monai.utils.set_determinism(42)\n",
        "device = torch.device(\"cuda\" if torch.cuda.is_available() else \"cpu\")"
      ],
      "execution_count": null,
      "outputs": []
    },
    {
      "cell_type": "markdown",
      "metadata": {
        "id": "YcfTvuxyy9jX"
      },
      "source": [
        "Collecting all the patch data\n"
      ]
    },
    {
      "cell_type": "code",
      "metadata": {
        "colab": {
          "base_uri": "https://localhost:8080/"
        },
        "id": "Ty91LRwqUikZ",
        "outputId": "773bfa78-4a34-4692-9540-f6bb0babd7d9"
      },
      "source": [
        "lesion = glob.glob(\"./patch/lesion_*\")\n",
        "non_lesion = glob.glob(\"./patch/norm_*\")\n",
        "labels = np.asarray([[0., 1.]] * len(lesion) + [[1., 0.]] * len(non_lesion))\n",
        "\n",
        "all_files = [{\"image\": img, \"label\": label} for img, label in zip(lesion + non_lesion, labels)]\n",
        "random.shuffle(all_files)\n",
        "print(f\"total items: {len(all_files)}\")"
      ],
      "execution_count": 30,
      "outputs": [
        {
          "output_type": "stream",
          "text": [
            "total items: 251\n"
          ],
          "name": "stdout"
        }
      ]
    },
    {
      "cell_type": "markdown",
      "metadata": {
        "id": "NnSCws-GzA2k"
      },
      "source": [
        "Split the data into 80% training and 20% validation\n"
      ]
    },
    {
      "cell_type": "code",
      "metadata": {
        "colab": {
          "base_uri": "https://localhost:8080/"
        },
        "id": "V6MQhLrgYyPV",
        "outputId": "050abf8c-9fcb-4bf7-afb2-8a15d2530435"
      },
      "source": [
        "train_frac, val_frac = 0.8, 0.2\n",
        "n_train = int(train_frac * len(all_files)) + 1\n",
        "n_val = min(len(all_files) - n_train, int(val_frac * len(all_files)))\n",
        "\n",
        "train_files, val_files = all_files[:n_train], all_files[-n_val:]\n",
        "train_labels = [data[\"label\"] for data in train_files]\n",
        "print(f\"total train: {len(train_files)}\")\n",
        "\n",
        "val_labels = [data[\"label\"] for data in val_files]\n",
        "n_neg, n_pos = np.sum(np.asarray(val_labels) == 0), np.sum(np.asarray(val_labels)== 1)\n",
        "print(f\"total valid: {len(val_labels)}\")"
      ],
      "execution_count": 31,
      "outputs": [
        {
          "output_type": "stream",
          "text": [
            "total train: 201\n",
            "total valid: 50\n"
          ],
          "name": "stdout"
        }
      ]
    },
    {
      "cell_type": "markdown",
      "metadata": {
        "id": "WF7QPpXczLuE"
      },
      "source": [
        "Create the data loaders. These loaders will be used for both training/validation, as well as visualisations."
      ]
    },
    {
      "cell_type": "code",
      "metadata": {
        "id": "SSOwnizoaX0Z"
      },
      "source": [
        "# Define transforms for image\n",
        "win_size = (196, 196, 144)\n",
        "train_transforms = Compose(\n",
        "    [\n",
        "        LoadImaged(\"image\"),\n",
        "        AddChanneld(\"image\"),\n",
        "        ScaleIntensityRanged(\"image\", a_min=-1000.0, a_max=500.0, b_min=0.0, b_max=1.0, clip=True),\n",
        "        RandFlipd(\"image\", spatial_axis=0, prob=0.5),\n",
        "        RandFlipd(\"image\", spatial_axis=1, prob=0.5),\n",
        "        RandFlipd(\"image\", spatial_axis=2, prob=0.5),\n",
        "        RandSpatialCropd(\"image\", roi_size=(64, 64, 40)),\n",
        "        Resized(\"image\", win_size, \"trilinear\", True),\n",
        "        RandRotate90d(\"image\", prob=0.5, spatial_axes=[0, 1]),\n",
        "        ToTensord(\"image\"),\n",
        "    ]\n",
        ")\n",
        "val_transforms = Compose(\n",
        "    [\n",
        "        LoadImaged(\"image\"),\n",
        "        AddChanneld(\"image\"),\n",
        "        ScaleIntensityRanged(\"image\", a_min=-1000.0, a_max=500.0, b_min=0.0, b_max=1.0, clip=True),\n",
        "        Resized(\"image\", win_size, \"trilinear\", True),\n",
        "        ToTensord((\"image\", \"label\")),\n",
        "    ]\n",
        ")\n",
        "\n",
        "train_ds = monai.data.LMDBDataset(data=train_files, transform=train_transforms)\n",
        "train_loader = monai.data.DataLoader(train_ds, batch_size=2, shuffle=True, num_workers=2, pin_memory=True)\n",
        "val_ds = monai.data.LMDBDataset(data=val_files, transform=val_transforms)\n",
        "val_loader = monai.data.DataLoader(val_ds, batch_size=2, num_workers=2, pin_memory=True)"
      ],
      "execution_count": 32,
      "outputs": []
    },
    {
      "cell_type": "markdown",
      "metadata": {
        "id": "cST2NTu2zUk_"
      },
      "source": [
        "Start the model, loss function, and optimizer."
      ]
    },
    {
      "cell_type": "code",
      "metadata": {
        "id": "bdGF-VX9bs6l"
      },
      "source": [
        "model = monai.networks.nets.densenet.densenet121(spatial_dims=3, in_channels=1, out_channels=2).to(device)\n",
        "bce = torch.nn.BCEWithLogitsLoss()\n",
        "def criterion(logits, target): \n",
        "    return bce(logits.view(-1), target.view(-1))\n",
        "optimizer = torch.optim.Adam(model.parameters(), 1e-5)"
      ],
      "execution_count": null,
      "outputs": []
    },
    {
      "cell_type": "markdown",
      "metadata": {
        "id": "f2iAlkBTzYQD"
      },
      "source": [
        "Run training iterations."
      ]
    },
    {
      "cell_type": "code",
      "metadata": {
        "id": "rA_cp54ebxRv"
      },
      "source": [
        "# start training\n",
        "val_interval, total_epochs = 1, 30\n",
        "best_metric = best_metric_epoch = -1\n",
        "epoch_loss_values = []\n",
        "metric_values = []\n",
        "scaler = torch.cuda.amp.GradScaler()\n",
        "for epoch in range(total_epochs):\n",
        "    print(\"-\" * 10)\n",
        "    print(f\"epoch {epoch + 1}/{total_epochs}\")\n",
        "    model.train()\n",
        "    epoch_loss = step = 0\n",
        "    for batch_data in train_loader:\n",
        "        inputs, labels = batch_data[\"image\"].to(device), batch_data[\"label\"].to(device)\n",
        "        optimizer.zero_grad()\n",
        "        with torch.cuda.amp.autocast():\n",
        "            outputs = model(inputs)\n",
        "            loss = criterion(outputs.float(), labels.float())\n",
        "        scaler.scale(loss).backward()\n",
        "        scaler.step(optimizer)\n",
        "        scaler.update()\n",
        "        epoch_loss += loss.item()\n",
        "        epoch_len = len(train_ds) // train_loader.batch_size\n",
        "        if step % 50 == 0:\n",
        "            print(f\"{step}/{epoch_len}, train_loss: {loss.item():.4f}\")\n",
        "        step += 1\n",
        "    epoch_loss /= step\n",
        "    epoch_loss_values.append(epoch_loss)\n",
        "    print(f\"epoch {epoch + 1} average loss: {epoch_loss:.4f}\")\n",
        "\n",
        "    if (epoch + 1) % val_interval == 0:\n",
        "        model.eval()\n",
        "        with torch.no_grad():\n",
        "            num_correct = 0.0\n",
        "            metric_count = 0\n",
        "            for val_data in val_loader:\n",
        "                val_images, val_labels = val_data[\"image\"].to(device), val_data[\"label\"].to(device)\n",
        "                val_outputs = model(val_images)\n",
        "                value = torch.eq(val_outputs.argmax(dim=1), val_labels.argmax(dim=1))\n",
        "                metric_count += len(value)\n",
        "                num_correct += value.sum().item()\n",
        "            metric = num_correct / metric_count\n",
        "            metric_values.append(metric)\n",
        "            if metric >= best_metric:\n",
        "                best_metric = metric\n",
        "                best_metric_epoch = epoch + 1\n",
        "                torch.save(model.state_dict(), \"best_metric_model_classification3d_array.pth\")\n",
        "            torch.save(model.state_dict(), \"model_classification3d_array.pth\")\n",
        "            print(\n",
        "                \"current epoch: {} current accuracy: {:.4f} best accuracy: {:.4f} at epoch {}\".format(\n",
        "                    epoch + 1, metric, best_metric, best_metric_epoch\n",
        "                )\n",
        "            )\n",
        "print(f\"train completed, best_metric: {best_metric:.4f} at epoch: {best_metric_epoch}\")"
      ],
      "execution_count": null,
      "outputs": []
    },
    {
      "cell_type": "markdown",
      "metadata": {
        "id": "iHE0RMEFIera"
      },
      "source": [
        "Initialise the CAM visualiser"
      ]
    },
    {
      "cell_type": "code",
      "metadata": {
        "colab": {
          "base_uri": "https://localhost:8080/"
        },
        "id": "ZD5DvgwFIdwj",
        "outputId": "70f5f242-4b69-4a3d-a3d4-4a236f9123e8"
      },
      "source": [
        "model_3d = monai.networks.nets.densenet.densenet121(spatial_dims=3, in_channels=1, out_channels=2).to(device)\n",
        "model_3d.load_state_dict(torch.load(\"model_classification3d_array.pth\"))\n",
        "# cam = monai.visualize.CAM(nn_module=model_3d, target_layers=\"class_layers.relu\", fc_layers=\"class_layers.out\")\n",
        "cam = monai.visualize.GradCAM(nn_module=model_3d, target_layers=\"class_layers.relu\")\n",
        "# cam = monai.visualize.GradCAMpp(nn_module=model_3d, target_layers=\"class_layers.relu\")\n",
        "print(\"original feature shape\", cam.feature_map_size([1, 1] + list(win_size), device))\n",
        "print(\"upsampled feature shape\", [1, 1] + list(win_size))"
      ],
      "execution_count": 79,
      "outputs": [
        {
          "output_type": "stream",
          "text": [
            "original feature shape torch.Size([1, 1, 6, 6, 4])\n",
            "upsampled feature shape [1, 1, 196, 196, 144]\n"
          ],
          "name": "stdout"
        }
      ]
    },
    {
      "cell_type": "code",
      "metadata": {
        "colab": {
          "base_uri": "https://localhost:8080/",
          "height": 223
        },
        "id": "Kaj6XG2eAaIB",
        "outputId": "ffcda223-4c1a-42be-a0b6-7f393d06e25a"
      },
      "source": [
        "import matplotlib.pyplot as plt\n",
        "\n",
        "monai.utils.set_determinism(42)\n",
        "train_transforms.set_random_state(42)\n",
        "items = [41, 45, 80, 78, 10]\n",
        "plt.subplots(2, len(items))\n",
        "for idx, item in enumerate(items):\n",
        "    # run CAM\n",
        "    data = train_ds[item]  # this fetches training data with random augmentations\n",
        "    image, label = data[\"image\"].to(device), data[\"label\"]\n",
        "    result = cam(x=image[None], class_idx=1)\n",
        "\n",
        "    # the rest is for visualisations\n",
        "    name = \"lesion\" if label[1] == 1 else \"non-lesion\"\n",
        "    the_slice = 72\n",
        "    img = image.detach().cpu().numpy()\n",
        "    mix = result[0]\n",
        "    ax = plt.subplot(2, len(items), idx + 1); plt.imshow(img[0, :, :, the_slice], cmap='gray')\n",
        "    ax.set_title(f\"{name}\")\n",
        "    plt.axis('off')\n",
        "    fig = plt.subplot(2, len(items), len(items) + idx + 1); plt.imshow(mix[0, :, :, the_slice], cmap=\"jet\", vmin=0, vmax=1)\n",
        "    plt.axis('off')"
      ],
      "execution_count": 80,
      "outputs": [
        {
          "output_type": "display_data",
          "data": {
            "image/png": "[encoded data removed]",
            "text/plain": [
              "<Figure size 432x288 with 10 Axes>"
            ]
          },
          "metadata": {
            "tags": [],
            "needs_background": "light"
          }
        }
      ]
    },
    {
      "cell_type": "code",
      "metadata": {
        "id": "t09BSlRBdwsJ"
      },
      "source": [
        "from monai.visualize import plot_2d_or_3d_image\n",
        "from torch.utils.tensorboard import SummaryWriter\n",
        "\n",
        "with SummaryWriter(log_dir=\"logs\") as writer:\n",
        "    plot_2d_or_3d_image(mix[None], step=0, writer=writer, tag=\"CAM\")\n",
        "    plot_2d_or_3d_image(image[None], step=0, writer=writer, tag=\"Input\")"
      ],
      "execution_count": null,
      "outputs": []
    },
    {
      "cell_type": "code",
      "metadata": {
        "id": "B1IavBxrePt5"
      },
      "source": [
        "%load_ext tensorboard\n",
        "%tensorboard --logdir logs"
      ],
      "execution_count": null,
      "outputs": []
    }
  ]
}